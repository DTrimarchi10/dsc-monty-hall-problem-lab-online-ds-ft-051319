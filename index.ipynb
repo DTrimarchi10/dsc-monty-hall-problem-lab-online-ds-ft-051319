{
 "cells": [
  {
   "cell_type": "markdown",
   "metadata": {},
   "source": [
    "# The Monty Hall Problem\n",
    "\n",
    "## Introduction\n",
    "\n",
    "The Monty Hall problem is a famous little puzzle from a game show. It goes like this: you are presented with 3 doors. Behind two are goats and behind the third is a car. You are asked to select a door; if you select the door with the car, you win! After selecting, the host then opens one of the remaining two doors, revealing a goat. The host then asks if you would like to switch doors or stick with your original choice. What would you do? Does it matter?\n",
    "\n",
    "## Objectives\n",
    "\n",
    "You will be able to:\n",
    "* Solve the monty hall problem using simulations"
   ]
  },
  {
   "cell_type": "markdown",
   "metadata": {},
   "source": [
    "## Run a Simulation\n",
    "\n",
    "This is not a traditional application of Bayes' Theorem, so trying to formulate the problem as such is tricky at best. That said, the scenario does capture the motivating conception behind Bayesian statistics: updating our beliefs in the face of additional evidence. With this, you'll employ another frequently used tool of Bayesian's&mdash;running a simulation. To do this, generate a random integer between one and three to represent the door hiding the car. Then, generate a second integer between one and three representing the player's selection. Then, of those the contestant did not choose, select a door concealing a goat to reveal. Record the results of the simulated game if they changed versus if they did not. Repeat this process a thousand (or more) times. Finally, plot the results of your simulation as a line graph. The x-axis should be the number of simulations, and the y-axis should be the probability of winning. (There should be two lines on the graph, one for switching doors, and the other for keeping the original selection.)"
   ]
  },
  {
   "cell_type": "code",
   "execution_count": 24,
   "metadata": {},
   "outputs": [],
   "source": [
    "def monty_hall():\n",
    "    \"Returns changer_win, non_changer_win for random door choice\"\n",
    "    #Make door selections\n",
    "    car_door = np.random.choice([1,2,3])\n",
    "    player_door = np.random.choice([1,2,3])\n",
    "\n",
    "    if(car_door==player_door):\n",
    "        changer_win = 0\n",
    "        non_changer_win = 1\n",
    "    else:\n",
    "        non_changer_win = 0\n",
    "        changer_win = 1\n",
    "        \n",
    "    return changer_win, non_changer_win"
   ]
  },
  {
   "cell_type": "code",
   "execution_count": 25,
   "metadata": {},
   "outputs": [],
   "source": [
    "def monty_hall_simulation(n=1000):\n",
    "    \"\"\"runs n monty hall simulations and returns win rate for each n for changers, non-changers\"\"\"\n",
    "    changer_win_rates = []\n",
    "    non_changer_win_rates= []\n",
    "    changer_win_count = 0\n",
    "    non_changer_win_count = 0\n",
    "    \n",
    "    for i in range(1,n):\n",
    "        results = monty_hall()\n",
    "        changer_win_count+=results[0]\n",
    "        non_changer_win_count+=results[1]\n",
    "        changer_win_rates.append(changer_win_count/i)\n",
    "        non_changer_win_rates.append(non_changer_win_count/i)\n",
    "    return changer_win_rates, non_changer_win_rates"
   ]
  },
  {
   "cell_type": "code",
   "execution_count": 30,
   "metadata": {},
   "outputs": [],
   "source": [
    "#Your code here\n",
    "#Generate random integer 1,2,3 representing door with car\n",
    "#Generate random integer 1,2,3 representing player selection\n",
    "#Select one of remaining doors concealing goat to reveal\n",
    "#Record results of the simulated game if they changed vs. if not changed\n",
    "#Plot: x-axis = # simulations, y-axis = probability of winning\n",
    "\n",
    "import numpy as np\n",
    "import seaborn as sns\n",
    "import matplotlib.pyplot as plt\n",
    "%matplotlib inline\n",
    "sns.set_style('whitegrid')\n",
    "\n",
    "num_simulations = 5000\n",
    "\n",
    "changer_win_rates, non_changer_win_rates = monty_hall_simulation(num_simulations)"
   ]
  },
  {
   "cell_type": "code",
   "execution_count": 31,
   "metadata": {
    "scrolled": false
   },
   "outputs": [
    {
     "data": {
      "text/plain": [
       "Text(0, 0.5, 'Probability of Winning')"
      ]
     },
     "execution_count": 31,
     "metadata": {},
     "output_type": "execute_result"
    },
    {
     "data": {
      "image/png": "[encoded data removed]",
      "text/plain": [
       "<Figure size 432x288 with 1 Axes>"
      ]
     },
     "metadata": {},
     "output_type": "display_data"
    }
   ],
   "source": [
    "sns.lineplot(x=range(1,num_simulations),y=changer_win_rates, label=\"Changers\")\n",
    "sns.lineplot(x=range(1,num_simulations),y=non_changer_win_rates, label=\"Non-Changers\")\n",
    "plt.xlabel(\"Number of Simulations\")\n",
    "plt.ylabel(\"Probability of Winning\")\n"
   ]
  },
  {
   "cell_type": "markdown",
   "metadata": {},
   "source": [
    "## Summary\n",
    "\n",
    "In this lab you further investigated the idea of Bayes' Theorem and Bayesian statistics in general through the Monty Hall problem. Hopefully this was an entertaining little experience! "
   ]
  },
  {
   "cell_type": "code",
   "execution_count": null,
   "metadata": {},
   "outputs": [],
   "source": []
  },
  {
   "cell_type": "code",
   "execution_count": null,
   "metadata": {},
   "outputs": [],
   "source": []
  }
 ],
 "metadata": {
  "kernelspec": {
   "display_name": "Python 3",
   "language": "python",
   "name": "python3"
  },
  "language_info": {
   "codemirror_mode": {
    "name": "ipython",
    "version": 3
   },
   "file_extension": ".py",
   "mimetype": "text/x-python",
   "name": "python",
   "nbconvert_exporter": "python",
   "pygments_lexer": "ipython3",
   "version": "3.6.6"
  }
 },
 "nbformat": 4,
 "nbformat_minor": 2
}
